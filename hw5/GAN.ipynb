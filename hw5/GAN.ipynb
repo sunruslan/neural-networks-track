{
 "cells": [
  {
   "cell_type": "markdown",
   "metadata": {},
   "source": [
    "## Домашнее задание №4. GAN"
   ]
  },
  {
   "cell_type": "markdown",
   "metadata": {},
   "source": [
    "### Creating config object (argparse workaround)"
   ]
  },
  {
   "cell_type": "code",
   "execution_count": 1,
   "metadata": {},
   "outputs": [],
   "source": [
    "student_name = \"Ruslan Sungatullin\" # Введите свое имя и фамилию"
   ]
  },
  {
   "cell_type": "markdown",
   "metadata": {},
   "source": [
    "В рамках этого домашнего задания мы разберем архитектуру простейшего GAN для генерации картинок одежды и попробуем ее немного модифицировать"
   ]
  },
  {
   "cell_type": "code",
   "execution_count": 2,
   "metadata": {},
   "outputs": [],
   "source": [
    "import torch\n",
    "import torch.nn as nn\n",
    "import torch.nn.functional as F\n",
    "import torch.optim as optim\n",
    "from torch.utils.data import DataLoader, Dataset\n",
    "\n",
    "import torchvision\n",
    "import matplotlib.pyplot as plt\n",
    "import numpy as np"
   ]
  },
  {
   "cell_type": "code",
   "execution_count": 3,
   "metadata": {},
   "outputs": [
    {
     "data": {
      "text/plain": [
       "device(type='cuda', index=0)"
      ]
     },
     "execution_count": 3,
     "metadata": {},
     "output_type": "execute_result"
    }
   ],
   "source": [
    "device = torch.device('cuda:0') if torch.cuda.is_available() else torch.device('cpu')\n",
    "device"
   ]
  },
  {
   "cell_type": "code",
   "execution_count": 4,
   "metadata": {},
   "outputs": [],
   "source": [
    "# Конфигурация\n",
    "num_epochs = 3\n",
    "noise_size = 50\n",
    "print_freq = 100\n",
    "batch_size = 16\n",
    "\n",
    "# Как мы будем помечать истинные и сгенерированные изображения\n",
    "real_label = 1\n",
    "fake_label = 0\n",
    "\n",
    "# Шум, из которого генератор будет делать картинки\n",
    "# Заготовка - новые можно сделать с помощью .normal_()\n",
    "noise = torch.FloatTensor(batch_size, noise_size)"
   ]
  },
  {
   "cell_type": "code",
   "execution_count": 5,
   "metadata": {},
   "outputs": [],
   "source": [
    "# Отображает 16 картинок из pic в сетке 4x4\n",
    "def show_pictures(pic):\n",
    "    plt.figure(figsize=(6, 7))\n",
    "    for i in range(16):\n",
    "        plt.subplot(4, 4, i + 1)\n",
    "        plt.imshow(pic[i].detach().cpu().numpy().reshape(28, 28), cmap=plt.cm.Greys_r)\n",
    "        plt.axis('off')"
   ]
  },
  {
   "cell_type": "markdown",
   "metadata": {},
   "source": [
    "**Загружаем данные для работы**"
   ]
  },
  {
   "cell_type": "code",
   "execution_count": 6,
   "metadata": {},
   "outputs": [],
   "source": [
    "train = torchvision.datasets.FashionMNIST(\"fashion_mnist\", train=True,\n",
    "                                          transform=torchvision.transforms.ToTensor(), download=True)"
   ]
  },
  {
   "cell_type": "code",
   "execution_count": 7,
   "metadata": {},
   "outputs": [],
   "source": [
    "dataloader = DataLoader(train, batch_size, shuffle=True)\n",
    "for batch, _ in dataloader: # Жертвуем 1 батчом из первой итерации для обучения - ничего страшного\n",
    "    break"
   ]
  },
  {
   "cell_type": "code",
   "execution_count": 8,
   "metadata": {},
   "outputs": [
    {
     "data": {
      "image/png": "[encoded data removed]",
      "text/plain": [
       "<Figure size 432x504 with 16 Axes>"
      ]
     },
     "metadata": {
      "needs_background": "light"
     },
     "output_type": "display_data"
    }
   ],
   "source": [
    "show_pictures(batch.reshape(-1, 28, 28))"
   ]
  },
  {
   "cell_type": "markdown",
   "metadata": {},
   "source": [
    "**Реализация GAN**"
   ]
  },
  {
   "cell_type": "code",
   "execution_count": 9,
   "metadata": {},
   "outputs": [],
   "source": [
    "class Generator(nn.Module):\n",
    "    def __init__(self):\n",
    "        super(Generator, self).__init__()\n",
    "        self.model = nn.Sequential( \n",
    "            nn.Linear(noise_size, 200),\n",
    "            nn.ReLU(inplace=True),\n",
    "            nn.Linear(200, 28*28),\n",
    "            nn.Sigmoid()).to(device)\n",
    "        \n",
    "    def forward(self, x):\n",
    "        return self.model(x)\n",
    "    \n",
    "class Discriminator(nn.Module):\n",
    "    def __init__(self):\n",
    "        super(Discriminator, self).__init__()\n",
    "        self.model = nn.Sequential(\n",
    "            nn.Linear(28*28, 200),\n",
    "            nn.ReLU(inplace=True),\n",
    "            nn.Linear(200, 50),\n",
    "            nn.ReLU(inplace=True),\n",
    "            nn.Linear(50, 1), \n",
    "            nn.Sigmoid()).to(device)\n",
    "    def forward(self, x):\n",
    "        return self.model(x)"
   ]
  },
  {
   "cell_type": "code",
   "execution_count": 10,
   "metadata": {},
   "outputs": [],
   "source": [
    "generator = Generator().to(device)\n",
    "discriminator = Discriminator().to(device)"
   ]
  },
  {
   "cell_type": "code",
   "execution_count": 11,
   "metadata": {},
   "outputs": [],
   "source": [
    "optim_G = optim.Adam(params=generator.parameters(), lr=0.0001)\n",
    "optim_D = optim.Adam(params=discriminator.parameters(), lr=0.0001)\n",
    "\n",
    "criterion = nn.BCELoss().to(device)"
   ]
  },
  {
   "cell_type": "code",
   "execution_count": 12,
   "metadata": {
    "scrolled": true
   },
   "outputs": [
    {
     "name": "stderr",
     "output_type": "stream",
     "text": [
      "/home/ruslan/.local/lib/python3.7/site-packages/torch/nn/functional.py:2016: UserWarning: Using a target size (torch.Size([16])) that is different to the input size (torch.Size([16, 1])) is deprecated. Please ensure they have the same size.\n",
      "  \"Please ensure they have the same size.\".format(target.size(), input.size()))\n"
     ]
    },
    {
     "name": "stdout",
     "output_type": "stream",
     "text": [
      "Epoch:1 Iter: 100 errD_x: 0.17 errD_z: 0.16 errG: 1.94\n",
      "Epoch:1 Iter: 200 errD_x: 0.23 errD_z: 0.11 errG: 2.50\n",
      "Epoch:1 Iter: 300 errD_x: 0.18 errD_z: 0.15 errG: 2.24\n",
      "Epoch:1 Iter: 400 errD_x: 0.06 errD_z: 0.11 errG: 2.56\n",
      "Epoch:1 Iter: 500 errD_x: 0.17 errD_z: 0.11 errG: 2.58\n",
      "Epoch:1 Iter: 600 errD_x: 0.12 errD_z: 0.10 errG: 2.68\n",
      "Epoch:1 Iter: 700 errD_x: 0.21 errD_z: 0.15 errG: 2.54\n",
      "Epoch:1 Iter: 800 errD_x: 0.05 errD_z: 0.27 errG: 1.97\n",
      "Epoch:1 Iter: 900 errD_x: 0.34 errD_z: 0.24 errG: 1.67\n",
      "Epoch:1 Iter: 1000 errD_x: 0.16 errD_z: 0.20 errG: 1.77\n",
      "Epoch:1 Iter: 1100 errD_x: 0.17 errD_z: 0.23 errG: 1.80\n",
      "Epoch:1 Iter: 1200 errD_x: 0.24 errD_z: 0.31 errG: 1.55\n",
      "Epoch:1 Iter: 1300 errD_x: 0.28 errD_z: 0.23 errG: 1.76\n",
      "Epoch:1 Iter: 1400 errD_x: 0.18 errD_z: 0.31 errG: 1.87\n",
      "Epoch:1 Iter: 1500 errD_x: 0.06 errD_z: 0.40 errG: 1.42\n",
      "Epoch:1 Iter: 1600 errD_x: 0.23 errD_z: 0.11 errG: 2.46\n",
      "Epoch:1 Iter: 1700 errD_x: 0.41 errD_z: 0.21 errG: 2.07\n",
      "Epoch:1 Iter: 1800 errD_x: 0.09 errD_z: 0.31 errG: 2.06\n",
      "Epoch:1 Iter: 1900 errD_x: 0.44 errD_z: 0.11 errG: 2.60\n",
      "Epoch:1 Iter: 2000 errD_x: 0.37 errD_z: 0.15 errG: 2.89\n",
      "Epoch:1 Iter: 2100 errD_x: 0.70 errD_z: 0.13 errG: 2.70\n",
      "Epoch:1 Iter: 2200 errD_x: 0.15 errD_z: 0.23 errG: 2.75\n",
      "Epoch:1 Iter: 2300 errD_x: 0.18 errD_z: 0.09 errG: 3.28\n",
      "Epoch:1 Iter: 2400 errD_x: 0.27 errD_z: 0.11 errG: 2.79\n",
      "Epoch:1 Iter: 2500 errD_x: 0.42 errD_z: 0.18 errG: 2.30\n",
      "Epoch:1 Iter: 2600 errD_x: 0.22 errD_z: 0.10 errG: 3.34\n",
      "Epoch:1 Iter: 2700 errD_x: 0.23 errD_z: 0.10 errG: 3.22\n",
      "Epoch:1 Iter: 2800 errD_x: 0.01 errD_z: 0.13 errG: 2.78\n",
      "Epoch:1 Iter: 2900 errD_x: 0.02 errD_z: 0.19 errG: 2.98\n",
      "Epoch:1 Iter: 3000 errD_x: 0.21 errD_z: 0.06 errG: 3.79\n",
      "Epoch:1 Iter: 3100 errD_x: 0.26 errD_z: 0.03 errG: 4.18\n",
      "Epoch:1 Iter: 3200 errD_x: 0.08 errD_z: 0.09 errG: 3.21\n",
      "Epoch:1 Iter: 3300 errD_x: 0.01 errD_z: 0.17 errG: 2.60\n",
      "Epoch:1 Iter: 3400 errD_x: 0.02 errD_z: 0.06 errG: 3.30\n",
      "Epoch:1 Iter: 3500 errD_x: 0.15 errD_z: 0.07 errG: 3.68\n",
      "Epoch:1 Iter: 3600 errD_x: 0.10 errD_z: 0.03 errG: 4.03\n",
      "Epoch:1 Iter: 3700 errD_x: 0.02 errD_z: 0.04 errG: 3.67\n",
      "Epoch:2 Iter: 100 errD_x: 0.01 errD_z: 0.07 errG: 3.40\n",
      "Epoch:2 Iter: 200 errD_x: 0.00 errD_z: 0.05 errG: 3.52\n",
      "Epoch:2 Iter: 300 errD_x: 0.14 errD_z: 0.02 errG: 4.15\n",
      "Epoch:2 Iter: 400 errD_x: 0.01 errD_z: 0.06 errG: 3.38\n",
      "Epoch:2 Iter: 500 errD_x: 0.01 errD_z: 0.01 errG: 4.98\n",
      "Epoch:2 Iter: 600 errD_x: 0.21 errD_z: 0.02 errG: 4.72\n",
      "Epoch:2 Iter: 700 errD_x: 0.05 errD_z: 0.07 errG: 3.27\n",
      "Epoch:2 Iter: 800 errD_x: 0.07 errD_z: 0.04 errG: 3.36\n",
      "Epoch:2 Iter: 900 errD_x: 0.06 errD_z: 0.07 errG: 3.35\n",
      "Epoch:2 Iter: 1000 errD_x: 0.22 errD_z: 0.08 errG: 3.45\n",
      "Epoch:2 Iter: 1100 errD_x: 0.24 errD_z: 0.10 errG: 3.31\n",
      "Epoch:2 Iter: 1200 errD_x: 0.48 errD_z: 0.07 errG: 2.27\n",
      "Epoch:2 Iter: 1300 errD_x: 0.17 errD_z: 0.13 errG: 2.28\n",
      "Epoch:2 Iter: 1400 errD_x: 0.47 errD_z: 0.14 errG: 2.76\n",
      "Epoch:2 Iter: 1500 errD_x: 0.33 errD_z: 0.03 errG: 3.89\n",
      "Epoch:2 Iter: 1600 errD_x: 0.52 errD_z: 0.09 errG: 2.96\n",
      "Epoch:2 Iter: 1700 errD_x: 0.31 errD_z: 0.17 errG: 2.22\n",
      "Epoch:2 Iter: 1800 errD_x: 0.13 errD_z: 0.13 errG: 2.95\n",
      "Epoch:2 Iter: 1900 errD_x: 0.04 errD_z: 0.11 errG: 2.94\n",
      "Epoch:2 Iter: 2000 errD_x: 0.03 errD_z: 0.06 errG: 3.38\n",
      "Epoch:2 Iter: 2100 errD_x: 0.07 errD_z: 0.11 errG: 3.14\n",
      "Epoch:2 Iter: 2200 errD_x: 0.03 errD_z: 0.05 errG: 3.84\n",
      "Epoch:2 Iter: 2300 errD_x: 0.16 errD_z: 0.11 errG: 2.79\n",
      "Epoch:2 Iter: 2400 errD_x: 0.01 errD_z: 0.05 errG: 3.98\n",
      "Epoch:2 Iter: 2500 errD_x: 0.03 errD_z: 0.15 errG: 2.76\n",
      "Epoch:2 Iter: 2600 errD_x: 0.19 errD_z: 0.09 errG: 2.67\n",
      "Epoch:2 Iter: 2700 errD_x: 0.11 errD_z: 0.31 errG: 2.62\n",
      "Epoch:2 Iter: 2800 errD_x: 0.07 errD_z: 0.13 errG: 3.30\n",
      "Epoch:2 Iter: 2900 errD_x: 0.05 errD_z: 0.09 errG: 2.99\n",
      "Epoch:2 Iter: 3000 errD_x: 0.06 errD_z: 0.06 errG: 3.18\n",
      "Epoch:2 Iter: 3100 errD_x: 0.01 errD_z: 0.06 errG: 3.70\n",
      "Epoch:2 Iter: 3200 errD_x: 0.07 errD_z: 0.09 errG: 2.93\n",
      "Epoch:2 Iter: 3300 errD_x: 0.08 errD_z: 0.04 errG: 4.54\n",
      "Epoch:2 Iter: 3400 errD_x: 0.44 errD_z: 0.35 errG: 2.85\n",
      "Epoch:2 Iter: 3500 errD_x: 0.33 errD_z: 0.05 errG: 3.47\n",
      "Epoch:2 Iter: 3600 errD_x: 0.07 errD_z: 0.06 errG: 3.81\n",
      "Epoch:2 Iter: 3700 errD_x: 0.28 errD_z: 0.07 errG: 3.12\n",
      "Epoch:3 Iter: 100 errD_x: 0.11 errD_z: 0.12 errG: 3.72\n",
      "Epoch:3 Iter: 200 errD_x: 0.29 errD_z: 0.04 errG: 3.84\n",
      "Epoch:3 Iter: 300 errD_x: 0.27 errD_z: 0.09 errG: 2.82\n",
      "Epoch:3 Iter: 400 errD_x: 0.11 errD_z: 0.09 errG: 2.82\n",
      "Epoch:3 Iter: 500 errD_x: 0.12 errD_z: 0.07 errG: 2.79\n",
      "Epoch:3 Iter: 600 errD_x: 0.29 errD_z: 0.10 errG: 2.78\n",
      "Epoch:3 Iter: 700 errD_x: 0.20 errD_z: 0.21 errG: 2.26\n",
      "Epoch:3 Iter: 800 errD_x: 0.13 errD_z: 0.10 errG: 2.78\n",
      "Epoch:3 Iter: 900 errD_x: 0.32 errD_z: 0.06 errG: 3.47\n",
      "Epoch:3 Iter: 1000 errD_x: 0.34 errD_z: 0.12 errG: 3.63\n",
      "Epoch:3 Iter: 1100 errD_x: 0.13 errD_z: 0.07 errG: 3.13\n",
      "Epoch:3 Iter: 1200 errD_x: 0.32 errD_z: 0.11 errG: 3.05\n",
      "Epoch:3 Iter: 1300 errD_x: 0.01 errD_z: 0.11 errG: 3.05\n",
      "Epoch:3 Iter: 1400 errD_x: 0.04 errD_z: 0.15 errG: 2.55\n",
      "Epoch:3 Iter: 1500 errD_x: 0.41 errD_z: 0.16 errG: 2.46\n",
      "Epoch:3 Iter: 1600 errD_x: 0.07 errD_z: 0.23 errG: 2.49\n",
      "Epoch:3 Iter: 1700 errD_x: 0.06 errD_z: 0.27 errG: 2.25\n",
      "Epoch:3 Iter: 1800 errD_x: 0.10 errD_z: 0.22 errG: 2.52\n",
      "Epoch:3 Iter: 1900 errD_x: 0.13 errD_z: 0.11 errG: 2.73\n",
      "Epoch:3 Iter: 2000 errD_x: 0.14 errD_z: 0.17 errG: 2.20\n",
      "Epoch:3 Iter: 2100 errD_x: 0.14 errD_z: 0.13 errG: 2.87\n",
      "Epoch:3 Iter: 2200 errD_x: 0.21 errD_z: 0.08 errG: 3.15\n",
      "Epoch:3 Iter: 2300 errD_x: 0.16 errD_z: 0.04 errG: 4.11\n",
      "Epoch:3 Iter: 2400 errD_x: 0.06 errD_z: 0.25 errG: 2.16\n",
      "Epoch:3 Iter: 2500 errD_x: 0.07 errD_z: 0.25 errG: 3.08\n",
      "Epoch:3 Iter: 2600 errD_x: 0.08 errD_z: 0.13 errG: 2.72\n",
      "Epoch:3 Iter: 2700 errD_x: 0.20 errD_z: 0.16 errG: 2.59\n",
      "Epoch:3 Iter: 2800 errD_x: 0.07 errD_z: 0.31 errG: 3.21\n",
      "Epoch:3 Iter: 2900 errD_x: 0.07 errD_z: 0.07 errG: 2.89\n",
      "Epoch:3 Iter: 3000 errD_x: 0.20 errD_z: 0.06 errG: 3.12\n",
      "Epoch:3 Iter: 3100 errD_x: 0.13 errD_z: 0.23 errG: 1.95\n",
      "Epoch:3 Iter: 3200 errD_x: 0.05 errD_z: 0.23 errG: 2.22\n",
      "Epoch:3 Iter: 3300 errD_x: 0.26 errD_z: 0.13 errG: 2.92\n",
      "Epoch:3 Iter: 3400 errD_x: 0.36 errD_z: 0.11 errG: 2.70\n",
      "Epoch:3 Iter: 3500 errD_x: 0.34 errD_z: 0.20 errG: 3.17\n",
      "Epoch:3 Iter: 3600 errD_x: 0.01 errD_z: 0.54 errG: 1.46\n",
      "Epoch:3 Iter: 3700 errD_x: 0.73 errD_z: 0.30 errG: 2.09\n"
     ]
    }
   ],
   "source": [
    "ERRD_x = np.zeros(num_epochs)\n",
    "ERRD_z = np.zeros(num_epochs)\n",
    "ERRG = np.zeros(num_epochs)\n",
    "N = len(dataloader)\n",
    "\n",
    "for epoch in range(num_epochs):\n",
    "    for iteration, (images, cat) in enumerate(dataloader):\n",
    "        ####### \n",
    "        # Discriminator stage: maximize log(D(x)) + log(1 - D(G(z))) \n",
    "        #######\n",
    "        discriminator.zero_grad()\n",
    "        label = torch.FloatTensor(batch_size).to(device) # место для меток\n",
    "        \n",
    "        # real\n",
    "        label.data.fill_(real_label)\n",
    "        input_data = images.view(images.shape[0], -1).to(device)\n",
    "        output = discriminator(input_data)\n",
    "        errD_x = criterion(output, label)\n",
    "        ERRD_x[epoch] += errD_x.item()\n",
    "        errD_x.backward()\n",
    "        \n",
    "        # fake \n",
    "        noise.data.normal_(0, 1)\n",
    "        noise = noise.to(device)\n",
    "        fake = generator(noise)\n",
    "        label.data.fill_(fake_label)\n",
    "        output = discriminator(fake.detach())\n",
    "        errD_z = criterion(output, label)\n",
    "        ERRD_z[epoch] += errD_z.item()\n",
    "        errD_z.backward()\n",
    "        \n",
    "        optim_D.step()\n",
    "        \n",
    "        ####### \n",
    "        # Generator stage: maximize log(D(G(x))\n",
    "        #######\n",
    "        generator.zero_grad()\n",
    "        label.data.fill_(real_label)\n",
    "        output = discriminator(fake)\n",
    "        errG = criterion(output, label)\n",
    "        ERRG[epoch] += errG.item()\n",
    "        errG.backward()\n",
    "        \n",
    "        optim_G.step()\n",
    "        \n",
    "        if (iteration+1) % print_freq == 0:\n",
    "            print('Epoch:{} Iter: {} errD_x: {:.2f} errD_z: {:.2f} errG: {:.2f}'.format(epoch+1,\n",
    "                                                                                            iteration+1, \n",
    "                                                                                            errD_x.item(),\n",
    "                                                                                            errD_z.item(), \n",
    "                                                                                            errG.item()))"
   ]
  },
  {
   "cell_type": "code",
   "execution_count": 13,
   "metadata": {},
   "outputs": [
    {
     "name": "stdout",
     "output_type": "stream",
     "text": [
      "torch.Size([16, 784])\n"
     ]
    },
    {
     "data": {
      "image/png": "[encoded data removed]",
      "text/plain": [
       "<Figure size 432x504 with 16 Axes>"
      ]
     },
     "metadata": {
      "needs_background": "light"
     },
     "output_type": "display_data"
    }
   ],
   "source": [
    "# Смотрим на результат\n",
    "noise.data.normal_(0, 1)\n",
    "fake = generator(noise)\n",
    "print(fake.shape)\n",
    "\n",
    "show_pictures(fake)"
   ]
  },
  {
   "cell_type": "markdown",
   "metadata": {},
   "source": [
    "### Задание\n",
    "В каждом пункте постройте графики функций потерь.  "
   ]
  },
  {
   "cell_type": "markdown",
   "metadata": {},
   "source": [
    "1) Посмотрите на реализацию GAN выше. Постройте интерполяцию между какими-нибудь двумя сгенерированными картинками.  \n",
    "  (Опционально) Добавьте свертки в генератор и дискриминатор, как в статье про DCGAN."
   ]
  },
  {
   "cell_type": "code",
   "execution_count": 14,
   "metadata": {},
   "outputs": [],
   "source": [
    "img1 = fake[3]\n",
    "img2 = fake[5]"
   ]
  },
  {
   "cell_type": "code",
   "execution_count": 15,
   "metadata": {},
   "outputs": [
    {
     "data": {
      "text/plain": [
       "<matplotlib.image.AxesImage at 0x7f3a1d25c390>"
      ]
     },
     "execution_count": 15,
     "metadata": {},
     "output_type": "execute_result"
    },
    {
     "data": {
      "image/png": "[encoded data removed]",
      "text/plain": [
       "<Figure size 432x288 with 1 Axes>"
      ]
     },
     "metadata": {
      "needs_background": "light"
     },
     "output_type": "display_data"
    }
   ],
   "source": [
    "plt.imshow(img1.detach().cpu().numpy().reshape(28, 28), cmap=plt.cm.Greys_r)"
   ]
  },
  {
   "cell_type": "code",
   "execution_count": 16,
   "metadata": {},
   "outputs": [
    {
     "data": {
      "text/plain": [
       "<matplotlib.image.AxesImage at 0x7f3a1d1c89e8>"
      ]
     },
     "execution_count": 16,
     "metadata": {},
     "output_type": "execute_result"
    },
    {
     "data": {
      "image/png": "[encoded data removed]",
      "text/plain": [
       "<Figure size 432x288 with 1 Axes>"
      ]
     },
     "metadata": {
      "needs_background": "light"
     },
     "output_type": "display_data"
    }
   ],
   "source": [
    "plt.imshow(img2.detach().cpu().numpy().reshape(28, 28), cmap=plt.cm.Greys_r)"
   ]
  },
  {
   "cell_type": "code",
   "execution_count": 17,
   "metadata": {},
   "outputs": [
    {
     "data": {
      "image/png": "[encoded data removed]",
      "text/plain": [
       "<Figure size 432x288 with 1 Axes>"
      ]
     },
     "metadata": {
      "needs_background": "light"
     },
     "output_type": "display_data"
    },
    {
     "data": {
      "image/png": "[encoded data removed]",
      "text/plain": [
       "<Figure size 432x288 with 1 Axes>"
      ]
     },
     "metadata": {
      "needs_background": "light"
     },
     "output_type": "display_data"
    },
    {
     "data": {
      "image/png": "[encoded data removed]",
      "text/plain": [
       "<Figure size 432x288 with 1 Axes>"
      ]
     },
     "metadata": {
      "needs_background": "light"
     },
     "output_type": "display_data"
    },
    {
     "data": {
      "image/png": "[encoded data removed]",
      "text/plain": [
       "<Figure size 432x288 with 1 Axes>"
      ]
     },
     "metadata": {
      "needs_background": "light"
     },
     "output_type": "display_data"
    }
   ],
   "source": [
    "for a in [0.1, 0.4, 0.7, 0.99]:\n",
    "    img = a*img1+(1-a)*img2\n",
    "    plt.imshow(img.detach().cpu().numpy().reshape(28, 28), cmap=plt.cm.Greys_r)\n",
    "    plt.axis('off')\n",
    "    plt.show()"
   ]
  },
  {
   "cell_type": "markdown",
   "metadata": {},
   "source": [
    "Получилось нечто несуразное, что весьма логично для gan, для vae ситуация должна быть лучше."
   ]
  },
  {
   "cell_type": "markdown",
   "metadata": {},
   "source": [
    "2) Поменяйте реализацию, чтобы получился LSGAN https://arxiv.org/pdf/1611.04076v2.pdf"
   ]
  },
  {
   "cell_type": "code",
   "execution_count": 9,
   "metadata": {},
   "outputs": [],
   "source": [
    "class Flatten(nn.Module):\n",
    "    def forward(self, input):\n",
    "        return input.view(input.size(0), -1)"
   ]
  },
  {
   "cell_type": "code",
   "execution_count": 10,
   "metadata": {},
   "outputs": [],
   "source": [
    "# Конфигурация\n",
    "num_epochs = 3\n",
    "noise_size = 256\n",
    "print_freq = 100\n",
    "batch_size = 16\n",
    "\n",
    "# Как мы будем помечать истинные и сгенерированные изображения\n",
    "real_label = 1\n",
    "fake_label = 0"
   ]
  },
  {
   "cell_type": "code",
   "execution_count": 11,
   "metadata": {},
   "outputs": [],
   "source": [
    "class GeneratorLSGAN(nn.Module):\n",
    "    def __init__(self, nz=256, ngf=64, nChannels=1):\n",
    "        super(GeneratorLSGAN, self).__init__()\n",
    "        self.layer1 = nn.Sequential(\n",
    "            nn.ConvTranspose2d(\n",
    "                in_channels = nz,\n",
    "                out_channels = ngf*4,\n",
    "                kernel_size = 7,\n",
    "                stride = 1,\n",
    "                padding = 0,\n",
    "                bias = False\n",
    "            ),\n",
    "            nn.BatchNorm2d(ngf*4),\n",
    "            nn.ReLU(True)\n",
    "        )\n",
    "\n",
    "        self.layer2 = nn.Sequential(\n",
    "            nn.ConvTranspose2d(\n",
    "                in_channels = ngf*4,\n",
    "                out_channels = ngf*2,\n",
    "                kernel_size = 4,\n",
    "                stride = 2,\n",
    "                padding = 1,\n",
    "                bias = False\n",
    "            ),\n",
    "            nn.BatchNorm2d(ngf*2),\n",
    "            nn.ReLU(True)\n",
    "        )\n",
    "\n",
    "        self.layer3 = nn.Sequential(\n",
    "            nn.ConvTranspose2d(\n",
    "                in_channels = ngf*2,\n",
    "                out_channels = nChannels,\n",
    "                kernel_size =4,\n",
    "                stride = 2,\n",
    "                padding = 1,\n",
    "                bias = False\n",
    "            ),\n",
    "            nn.Tanh()\n",
    "        )\n",
    "            \n",
    "        self.model = nn.Sequential(\n",
    "            self.layer1,\n",
    "            self.layer2,\n",
    "            self.layer3\n",
    "        )\n",
    "        \n",
    "        \n",
    "    def forward(self, x):\n",
    "        out = self.layer1(x)\n",
    "        out = self.layer2(out)\n",
    "        out = self.layer3(out)\n",
    "        return out\n",
    "    \n"
   ]
  },
  {
   "cell_type": "code",
   "execution_count": 22,
   "metadata": {},
   "outputs": [],
   "source": [
    "class DiscriminatorLSGAN(nn.Module):\n",
    "    def __init__(self, ndf=64, nChannels=1):\n",
    "        super(DiscriminatorLSGAN, self).__init__()\n",
    "\n",
    "        self.layer1 = nn.Sequential(\n",
    "            nn.Conv2d(\n",
    "                in_channels = nChannels,\n",
    "                out_channels = ndf,\n",
    "                kernel_size = 4,\n",
    "                stride = 2,\n",
    "                padding = 1,\n",
    "                bias = False\n",
    "            ),\n",
    "            nn.BatchNorm2d(ndf),\n",
    "            nn.LeakyReLU(0.2, inplace=True)\n",
    "        )\n",
    "\n",
    "        self.layer2 = nn.Sequential(\n",
    "            nn.Conv2d(\n",
    "                in_channels = ndf,\n",
    "                out_channels = ndf*2,\n",
    "                kernel_size = 4,\n",
    "                stride = 2,\n",
    "                padding = 1,\n",
    "                bias = False\n",
    "            ),\n",
    "            nn.BatchNorm2d(ndf*2),\n",
    "            nn.LeakyReLU(0.2, inplace=True)\n",
    "        )\n",
    "\n",
    "        self.layer3 = nn.Sequential(\n",
    "            nn.Conv2d(\n",
    "                in_channels = ndf*2,\n",
    "                out_channels = ndf*4,\n",
    "                kernel_size = 4,\n",
    "                stride = 2,\n",
    "                padding = 2,\n",
    "                bias = False\n",
    "            ),\n",
    "            nn.BatchNorm2d(ndf*4),\n",
    "            nn.LeakyReLU(0.2, inplace=True)\n",
    "        )\n",
    "\n",
    "        self.layer4 = nn.Sequential(\n",
    "            nn.Conv2d(\n",
    "                in_channels = ndf*4,\n",
    "                out_channels = 1,\n",
    "                kernel_size = 4,\n",
    "                stride = 1,\n",
    "                padding = 0,\n",
    "                bias = False\n",
    "            )\n",
    "        )\n",
    "        \n",
    "        self.model = nn.Sequential(\n",
    "            self.layer1,\n",
    "            self.layer2,\n",
    "            self.layer3,\n",
    "            self.layer4\n",
    "        )\n",
    "\n",
    "    def forward(self, x):\n",
    "        out = self.layer1(x)\n",
    "        out = self.layer2(out)\n",
    "        out = self.layer3(out)\n",
    "        out = self.layer4(out)\n",
    "        return out.view(-1,1)"
   ]
  },
  {
   "cell_type": "code",
   "execution_count": 23,
   "metadata": {},
   "outputs": [],
   "source": [
    "generatorLSGAN = GeneratorLSGAN().to(device)\n",
    "discriminatorLSGAN = DiscriminatorLSGAN().to(device)\n",
    "optim_G = optim.Adam(params=generatorLSGAN.parameters(), lr=0.0001)\n",
    "optim_D = optim.Adam(params=discriminatorLSGAN.parameters(), lr=0.0001)\n",
    "\n",
    "criterion = nn.BCELoss().to(device)"
   ]
  },
  {
   "cell_type": "code",
   "execution_count": 24,
   "metadata": {},
   "outputs": [
    {
     "name": "stdout",
     "output_type": "stream",
     "text": [
      "Epoch:1 Iter: 100 errD_x: 0.01 errD_z: 0.00 errG: 0.51\n",
      "Epoch:1 Iter: 200 errD_x: 0.00 errD_z: 0.00 errG: 0.59\n",
      "Epoch:1 Iter: 300 errD_x: 0.00 errD_z: 0.00 errG: 0.54\n",
      "Epoch:1 Iter: 400 errD_x: 0.00 errD_z: 0.01 errG: 0.47\n",
      "Epoch:1 Iter: 500 errD_x: 0.00 errD_z: 0.00 errG: 0.57\n",
      "Epoch:1 Iter: 600 errD_x: 0.00 errD_z: 0.01 errG: 0.52\n",
      "Epoch:1 Iter: 700 errD_x: 0.00 errD_z: 0.00 errG: 0.66\n",
      "Epoch:1 Iter: 800 errD_x: 0.00 errD_z: 0.00 errG: 0.56\n",
      "Epoch:1 Iter: 900 errD_x: 0.00 errD_z: 0.02 errG: 0.47\n",
      "Epoch:1 Iter: 1000 errD_x: 0.01 errD_z: 0.02 errG: 0.68\n",
      "Epoch:1 Iter: 1100 errD_x: 0.00 errD_z: 0.01 errG: 0.60\n",
      "Epoch:1 Iter: 1200 errD_x: 0.01 errD_z: 0.01 errG: 0.62\n",
      "Epoch:1 Iter: 1300 errD_x: 0.00 errD_z: 0.01 errG: 0.46\n",
      "Epoch:1 Iter: 1400 errD_x: 0.00 errD_z: 0.00 errG: 0.59\n",
      "Epoch:1 Iter: 1500 errD_x: 0.01 errD_z: 0.01 errG: 0.39\n",
      "Epoch:1 Iter: 1600 errD_x: 0.03 errD_z: 0.01 errG: 0.48\n",
      "Epoch:1 Iter: 1700 errD_x: 0.01 errD_z: 0.01 errG: 0.42\n",
      "Epoch:1 Iter: 1800 errD_x: 0.01 errD_z: 0.01 errG: 0.45\n",
      "Epoch:1 Iter: 1900 errD_x: 0.00 errD_z: 0.01 errG: 0.57\n",
      "Epoch:1 Iter: 2000 errD_x: 0.00 errD_z: 0.01 errG: 0.47\n",
      "Epoch:1 Iter: 2100 errD_x: 0.01 errD_z: 0.05 errG: 0.41\n",
      "Epoch:1 Iter: 2200 errD_x: 0.03 errD_z: 0.00 errG: 0.57\n",
      "Epoch:1 Iter: 2300 errD_x: 0.02 errD_z: 0.01 errG: 0.42\n",
      "Epoch:1 Iter: 2400 errD_x: 0.00 errD_z: 0.00 errG: 0.50\n",
      "Epoch:1 Iter: 2500 errD_x: 0.01 errD_z: 0.02 errG: 0.47\n",
      "Epoch:1 Iter: 2600 errD_x: 0.02 errD_z: 0.01 errG: 0.52\n",
      "Epoch:1 Iter: 2700 errD_x: 0.01 errD_z: 0.03 errG: 0.41\n",
      "Epoch:1 Iter: 2800 errD_x: 0.01 errD_z: 0.01 errG: 0.56\n",
      "Epoch:1 Iter: 2900 errD_x: 0.00 errD_z: 0.00 errG: 0.42\n",
      "Epoch:1 Iter: 3000 errD_x: 0.00 errD_z: 0.01 errG: 0.49\n",
      "Epoch:1 Iter: 3100 errD_x: 0.01 errD_z: 0.04 errG: 0.36\n",
      "Epoch:1 Iter: 3200 errD_x: 0.03 errD_z: 0.01 errG: 0.42\n",
      "Epoch:1 Iter: 3300 errD_x: 0.01 errD_z: 0.03 errG: 0.35\n",
      "Epoch:1 Iter: 3400 errD_x: 0.01 errD_z: 0.00 errG: 0.53\n",
      "Epoch:1 Iter: 3500 errD_x: 0.02 errD_z: 0.01 errG: 0.41\n",
      "Epoch:1 Iter: 3600 errD_x: 0.01 errD_z: 0.01 errG: 0.40\n",
      "Epoch:1 Iter: 3700 errD_x: 0.02 errD_z: 0.00 errG: 0.50\n",
      "Epoch:2 Iter: 100 errD_x: 0.01 errD_z: 0.01 errG: 0.55\n",
      "Epoch:2 Iter: 200 errD_x: 0.02 errD_z: 0.01 errG: 0.46\n",
      "Epoch:2 Iter: 300 errD_x: 0.01 errD_z: 0.01 errG: 0.42\n",
      "Epoch:2 Iter: 400 errD_x: 0.10 errD_z: 0.01 errG: 0.51\n",
      "Epoch:2 Iter: 500 errD_x: 0.01 errD_z: 0.02 errG: 0.41\n",
      "Epoch:2 Iter: 600 errD_x: 0.02 errD_z: 0.01 errG: 0.45\n",
      "Epoch:2 Iter: 700 errD_x: 0.01 errD_z: 0.02 errG: 0.35\n",
      "Epoch:2 Iter: 800 errD_x: 0.01 errD_z: 0.00 errG: 0.53\n",
      "Epoch:2 Iter: 900 errD_x: 0.01 errD_z: 0.00 errG: 0.53\n",
      "Epoch:2 Iter: 1000 errD_x: 0.01 errD_z: 0.03 errG: 0.28\n",
      "Epoch:2 Iter: 1100 errD_x: 0.02 errD_z: 0.01 errG: 0.41\n",
      "Epoch:2 Iter: 1200 errD_x: 0.04 errD_z: 0.01 errG: 0.53\n",
      "Epoch:2 Iter: 1300 errD_x: 0.00 errD_z: 0.00 errG: 0.56\n",
      "Epoch:2 Iter: 1400 errD_x: 0.01 errD_z: 0.01 errG: 0.45\n",
      "Epoch:2 Iter: 1500 errD_x: 0.01 errD_z: 0.02 errG: 0.39\n",
      "Epoch:2 Iter: 1600 errD_x: 0.03 errD_z: 0.00 errG: 0.60\n",
      "Epoch:2 Iter: 1700 errD_x: 0.05 errD_z: 0.00 errG: 0.57\n",
      "Epoch:2 Iter: 1800 errD_x: 0.06 errD_z: 0.00 errG: 0.54\n",
      "Epoch:2 Iter: 1900 errD_x: 0.00 errD_z: 0.01 errG: 0.66\n",
      "Epoch:2 Iter: 2000 errD_x: 0.03 errD_z: 0.02 errG: 0.38\n",
      "Epoch:2 Iter: 2100 errD_x: 0.04 errD_z: 0.01 errG: 0.55\n",
      "Epoch:2 Iter: 2200 errD_x: 0.03 errD_z: 0.05 errG: 0.31\n",
      "Epoch:2 Iter: 2300 errD_x: 0.02 errD_z: 0.01 errG: 0.36\n",
      "Epoch:2 Iter: 2400 errD_x: 0.02 errD_z: 0.01 errG: 0.59\n",
      "Epoch:2 Iter: 2500 errD_x: 0.02 errD_z: 0.01 errG: 0.30\n",
      "Epoch:2 Iter: 2600 errD_x: 0.00 errD_z: 0.00 errG: 0.53\n",
      "Epoch:2 Iter: 2700 errD_x: 0.07 errD_z: 0.00 errG: 0.38\n",
      "Epoch:2 Iter: 2800 errD_x: 0.01 errD_z: 0.00 errG: 0.59\n",
      "Epoch:2 Iter: 2900 errD_x: 0.04 errD_z: 0.01 errG: 0.30\n",
      "Epoch:2 Iter: 3000 errD_x: 0.02 errD_z: 0.06 errG: 0.29\n",
      "Epoch:2 Iter: 3100 errD_x: 0.02 errD_z: 0.01 errG: 0.49\n",
      "Epoch:2 Iter: 3200 errD_x: 0.01 errD_z: 0.00 errG: 0.48\n",
      "Epoch:2 Iter: 3300 errD_x: 0.05 errD_z: 0.01 errG: 0.54\n",
      "Epoch:2 Iter: 3400 errD_x: 0.01 errD_z: 0.03 errG: 0.28\n",
      "Epoch:2 Iter: 3500 errD_x: 0.00 errD_z: 0.00 errG: 0.50\n",
      "Epoch:2 Iter: 3600 errD_x: 0.02 errD_z: 0.03 errG: 0.67\n",
      "Epoch:2 Iter: 3700 errD_x: 0.00 errD_z: 0.01 errG: 0.50\n",
      "Epoch:3 Iter: 100 errD_x: 0.00 errD_z: 0.00 errG: 0.56\n",
      "Epoch:3 Iter: 200 errD_x: 0.06 errD_z: 0.01 errG: 0.26\n",
      "Epoch:3 Iter: 300 errD_x: 0.00 errD_z: 0.00 errG: 0.47\n",
      "Epoch:3 Iter: 400 errD_x: 0.01 errD_z: 0.01 errG: 0.51\n",
      "Epoch:3 Iter: 500 errD_x: 0.00 errD_z: 0.02 errG: 0.41\n",
      "Epoch:3 Iter: 600 errD_x: 0.06 errD_z: 0.00 errG: 0.48\n",
      "Epoch:3 Iter: 700 errD_x: 0.00 errD_z: 0.02 errG: 0.40\n",
      "Epoch:3 Iter: 800 errD_x: 0.01 errD_z: 0.01 errG: 0.54\n",
      "Epoch:3 Iter: 900 errD_x: 0.01 errD_z: 0.01 errG: 0.53\n",
      "Epoch:3 Iter: 1000 errD_x: 0.03 errD_z: 0.01 errG: 0.43\n",
      "Epoch:3 Iter: 1100 errD_x: 0.01 errD_z: 0.00 errG: 0.57\n",
      "Epoch:3 Iter: 1200 errD_x: 0.02 errD_z: 0.00 errG: 0.57\n",
      "Epoch:3 Iter: 1300 errD_x: 0.00 errD_z: 0.01 errG: 0.51\n",
      "Epoch:3 Iter: 1400 errD_x: 0.01 errD_z: 0.01 errG: 0.44\n",
      "Epoch:3 Iter: 1500 errD_x: 0.00 errD_z: 0.02 errG: 0.36\n",
      "Epoch:3 Iter: 1600 errD_x: 0.12 errD_z: 0.03 errG: 0.62\n",
      "Epoch:3 Iter: 1700 errD_x: 0.01 errD_z: 0.01 errG: 0.50\n",
      "Epoch:3 Iter: 1800 errD_x: 0.01 errD_z: 0.00 errG: 0.52\n",
      "Epoch:3 Iter: 1900 errD_x: 0.06 errD_z: 0.01 errG: 0.55\n",
      "Epoch:3 Iter: 2000 errD_x: 0.00 errD_z: 0.01 errG: 0.48\n",
      "Epoch:3 Iter: 2100 errD_x: 0.01 errD_z: 0.00 errG: 0.51\n",
      "Epoch:3 Iter: 2200 errD_x: 0.01 errD_z: 0.02 errG: 0.39\n",
      "Epoch:3 Iter: 2300 errD_x: 0.02 errD_z: 0.02 errG: 0.37\n",
      "Epoch:3 Iter: 2400 errD_x: 0.01 errD_z: 0.01 errG: 0.40\n",
      "Epoch:3 Iter: 2500 errD_x: 0.01 errD_z: 0.03 errG: 0.75\n",
      "Epoch:3 Iter: 2600 errD_x: 0.03 errD_z: 0.00 errG: 0.45\n",
      "Epoch:3 Iter: 2700 errD_x: 0.02 errD_z: 0.00 errG: 0.50\n",
      "Epoch:3 Iter: 2800 errD_x: 0.00 errD_z: 0.01 errG: 0.45\n",
      "Epoch:3 Iter: 2900 errD_x: 0.01 errD_z: 0.00 errG: 0.46\n",
      "Epoch:3 Iter: 3000 errD_x: 0.02 errD_z: 0.01 errG: 0.46\n",
      "Epoch:3 Iter: 3100 errD_x: 0.00 errD_z: 0.01 errG: 0.48\n",
      "Epoch:3 Iter: 3200 errD_x: 0.01 errD_z: 0.02 errG: 0.43\n",
      "Epoch:3 Iter: 3300 errD_x: 0.00 errD_z: 0.05 errG: 0.27\n",
      "Epoch:3 Iter: 3400 errD_x: 0.02 errD_z: 0.01 errG: 0.34\n",
      "Epoch:3 Iter: 3500 errD_x: 0.00 errD_z: 0.01 errG: 0.63\n",
      "Epoch:3 Iter: 3600 errD_x: 0.00 errD_z: 0.00 errG: 0.43\n",
      "Epoch:3 Iter: 3700 errD_x: 0.00 errD_z: 0.01 errG: 0.55\n"
     ]
    }
   ],
   "source": [
    "ERRD_x = np.zeros(num_epochs)\n",
    "ERRD_z = np.zeros(num_epochs)\n",
    "ERRG = np.zeros(num_epochs)\n",
    "N = len(dataloader)\n",
    "\n",
    "for epoch in range(num_epochs):\n",
    "    for iteration, (images, cat) in enumerate(dataloader):\n",
    "        discriminatorLSGAN.zero_grad()\n",
    "        label = torch.FloatTensor(batch_size).to(device) # место для меток\n",
    "        \n",
    "        # real\n",
    "        label.data.fill_(real_label)\n",
    "        input_data = images.to(device)\n",
    "        output = discriminatorLSGAN(input_data)\n",
    "        errD_real = 0.5 * torch.mean((output-label)**2) # criterion(output, label)\n",
    "        errD_real.backward()\n",
    "        ERRD_x[epoch] += errD_real.item()\n",
    "        \n",
    "        # fake \n",
    "        latent_noise = torch.randn(batch_size, noise_size, 1, 1, device=device)\n",
    "        fake = generatorLSGAN(latent_noise)\n",
    "        label.data.fill_(fake_label)\n",
    "        output = discriminatorLSGAN(fake.detach())\n",
    "        errD_fake = 0.5 * torch.mean((output-label)**2) \n",
    "        errD_fake.backward()\n",
    "        ERRD_z[epoch] += errD_fake.item()\n",
    "        \n",
    "        optim_D.step()\n",
    "        generatorLSGAN.zero_grad()\n",
    "        label.data.fill_(real_label)\n",
    "        output = discriminatorLSGAN(fake)\n",
    "        errG = 0.5 * torch.mean((output - label)**2)\n",
    "        errG.backward()\n",
    "        ERRG[epoch] += errG.item()\n",
    "        \n",
    "        optim_G.step()\n",
    "        \n",
    "        if (iteration+1) % print_freq == 0:\n",
    "            print('Epoch:{} Iter: {} errD_x: {:.2f} errD_z: {:.2f} errG: {:.2f}'.format(epoch+1,\n",
    "                                                                                            iteration+1, \n",
    "                                                                                            errD_real.item(),\n",
    "                                                                                            errD_fake.item(), \n",
    "                                                                                            errG.item()))"
   ]
  },
  {
   "cell_type": "code",
   "execution_count": 25,
   "metadata": {},
   "outputs": [
    {
     "name": "stdout",
     "output_type": "stream",
     "text": [
      "torch.Size([16, 1, 28, 28])\n"
     ]
    },
    {
     "data": {
      "image/png": "[encoded data removed]",
      "text/plain": [
       "<Figure size 432x504 with 16 Axes>"
      ]
     },
     "metadata": {
      "needs_background": "light"
     },
     "output_type": "display_data"
    }
   ],
   "source": [
    "# Смотрим на результат\n",
    "noise = torch.randn(batch_size, noise_size, 1, 1, device=device)\n",
    "fake = generatorLSGAN(noise.detach())\n",
    "print(fake.shape)\n",
    "\n",
    "show_pictures(fake)"
   ]
  },
  {
   "cell_type": "markdown",
   "metadata": {},
   "source": [
    "Сейчас уже мы значительно лучше генерируем картинки."
   ]
  },
  {
   "cell_type": "markdown",
   "metadata": {},
   "source": [
    "Попробуем теперь обучить на большем числе эпох с большим размером батча и большим числом параметров."
   ]
  },
  {
   "cell_type": "code",
   "execution_count": 30,
   "metadata": {},
   "outputs": [
    {
     "name": "stdout",
     "output_type": "stream",
     "text": [
      "Epoch:1 Iter: 100 errD_x: 0.01 errD_z: 0.03 errG: 0.71\n",
      "Epoch:1 Iter: 200 errD_x: 0.00 errD_z: 0.00 errG: 0.46\n",
      "Epoch:1 Iter: 300 errD_x: 0.00 errD_z: 0.00 errG: 0.56\n",
      "Epoch:1 Iter: 400 errD_x: 0.00 errD_z: 0.00 errG: 0.51\n",
      "Epoch:1 Iter: 500 errD_x: 0.00 errD_z: 0.00 errG: 0.55\n",
      "Epoch:1 Iter: 600 errD_x: 0.00 errD_z: 0.00 errG: 0.49\n",
      "Epoch:1 Iter: 700 errD_x: 0.00 errD_z: 0.00 errG: 0.54\n",
      "Epoch:1 Iter: 800 errD_x: 0.00 errD_z: 0.00 errG: 0.52\n",
      "Epoch:1 Iter: 900 errD_x: 0.00 errD_z: 0.00 errG: 0.48\n",
      "Epoch:2 Iter: 100 errD_x: 0.00 errD_z: 0.00 errG: 0.50\n",
      "Epoch:2 Iter: 200 errD_x: 0.00 errD_z: 0.00 errG: 0.52\n",
      "Epoch:2 Iter: 300 errD_x: 0.00 errD_z: 0.00 errG: 0.57\n",
      "Epoch:2 Iter: 400 errD_x: 0.00 errD_z: 0.00 errG: 0.52\n",
      "Epoch:2 Iter: 500 errD_x: 0.00 errD_z: 0.00 errG: 0.45\n",
      "Epoch:2 Iter: 600 errD_x: 0.00 errD_z: 0.00 errG: 0.50\n",
      "Epoch:2 Iter: 700 errD_x: 0.00 errD_z: 0.00 errG: 0.51\n",
      "Epoch:2 Iter: 800 errD_x: 0.00 errD_z: 0.00 errG: 0.45\n",
      "Epoch:2 Iter: 900 errD_x: 0.00 errD_z: 0.00 errG: 0.50\n",
      "Epoch:3 Iter: 100 errD_x: 0.00 errD_z: 0.00 errG: 0.52\n",
      "Epoch:3 Iter: 200 errD_x: 0.00 errD_z: 0.00 errG: 0.50\n",
      "Epoch:3 Iter: 300 errD_x: 0.00 errD_z: 0.00 errG: 0.52\n",
      "Epoch:3 Iter: 400 errD_x: 0.00 errD_z: 0.00 errG: 0.51\n",
      "Epoch:3 Iter: 500 errD_x: 0.00 errD_z: 0.00 errG: 0.48\n",
      "Epoch:3 Iter: 600 errD_x: 0.00 errD_z: 0.00 errG: 0.52\n",
      "Epoch:3 Iter: 700 errD_x: 0.00 errD_z: 0.00 errG: 0.52\n",
      "Epoch:3 Iter: 800 errD_x: 0.00 errD_z: 0.00 errG: 0.50\n",
      "Epoch:3 Iter: 900 errD_x: 0.00 errD_z: 0.00 errG: 0.48\n",
      "Epoch:4 Iter: 100 errD_x: 0.00 errD_z: 0.00 errG: 0.52\n",
      "Epoch:4 Iter: 200 errD_x: 0.00 errD_z: 0.00 errG: 0.50\n",
      "Epoch:4 Iter: 300 errD_x: 0.00 errD_z: 0.00 errG: 0.52\n",
      "Epoch:4 Iter: 400 errD_x: 0.00 errD_z: 0.00 errG: 0.52\n",
      "Epoch:4 Iter: 500 errD_x: 0.00 errD_z: 0.00 errG: 0.51\n",
      "Epoch:4 Iter: 600 errD_x: 0.00 errD_z: 0.00 errG: 0.53\n",
      "Epoch:4 Iter: 700 errD_x: 0.00 errD_z: 0.00 errG: 0.50\n",
      "Epoch:4 Iter: 800 errD_x: 0.00 errD_z: 0.00 errG: 0.52\n",
      "Epoch:4 Iter: 900 errD_x: 0.00 errD_z: 0.00 errG: 0.53\n",
      "Epoch:5 Iter: 100 errD_x: 0.00 errD_z: 0.00 errG: 0.50\n",
      "Epoch:5 Iter: 200 errD_x: 0.00 errD_z: 0.00 errG: 0.63\n",
      "Epoch:5 Iter: 300 errD_x: 0.00 errD_z: 0.00 errG: 0.49\n",
      "Epoch:5 Iter: 400 errD_x: 0.00 errD_z: 0.00 errG: 0.55\n",
      "Epoch:5 Iter: 500 errD_x: 0.00 errD_z: 0.00 errG: 0.52\n",
      "Epoch:5 Iter: 600 errD_x: 0.00 errD_z: 0.00 errG: 0.49\n",
      "Epoch:5 Iter: 700 errD_x: 0.00 errD_z: 0.00 errG: 0.52\n",
      "Epoch:5 Iter: 800 errD_x: 0.00 errD_z: 0.00 errG: 0.51\n",
      "Epoch:5 Iter: 900 errD_x: 0.00 errD_z: 0.00 errG: 0.54\n",
      "Epoch:6 Iter: 100 errD_x: 0.00 errD_z: 0.01 errG: 0.55\n",
      "Epoch:6 Iter: 200 errD_x: 0.01 errD_z: 0.06 errG: 0.38\n",
      "Epoch:6 Iter: 300 errD_x: 0.02 errD_z: 0.01 errG: 0.49\n",
      "Epoch:6 Iter: 400 errD_x: 0.02 errD_z: 0.01 errG: 0.50\n",
      "Epoch:6 Iter: 500 errD_x: 0.03 errD_z: 0.01 errG: 0.60\n",
      "Epoch:6 Iter: 600 errD_x: 0.03 errD_z: 0.00 errG: 0.42\n",
      "Epoch:6 Iter: 700 errD_x: 0.01 errD_z: 0.01 errG: 0.58\n",
      "Epoch:6 Iter: 800 errD_x: 0.03 errD_z: 0.01 errG: 0.45\n",
      "Epoch:6 Iter: 900 errD_x: 0.01 errD_z: 0.01 errG: 0.62\n",
      "Epoch:7 Iter: 100 errD_x: 0.01 errD_z: 0.01 errG: 0.44\n",
      "Epoch:7 Iter: 200 errD_x: 0.02 errD_z: 0.00 errG: 0.51\n",
      "Epoch:7 Iter: 300 errD_x: 0.02 errD_z: 0.01 errG: 0.51\n",
      "Epoch:7 Iter: 400 errD_x: 0.01 errD_z: 0.03 errG: 0.38\n",
      "Epoch:7 Iter: 500 errD_x: 0.01 errD_z: 0.01 errG: 0.47\n",
      "Epoch:7 Iter: 600 errD_x: 0.02 errD_z: 0.03 errG: 0.45\n",
      "Epoch:7 Iter: 700 errD_x: 0.06 errD_z: 0.01 errG: 0.36\n",
      "Epoch:7 Iter: 800 errD_x: 0.00 errD_z: 0.00 errG: 0.60\n",
      "Epoch:7 Iter: 900 errD_x: 0.03 errD_z: 0.01 errG: 0.59\n",
      "Epoch:8 Iter: 100 errD_x: 0.03 errD_z: 0.00 errG: 0.53\n",
      "Epoch:8 Iter: 200 errD_x: 0.01 errD_z: 0.01 errG: 0.53\n",
      "Epoch:8 Iter: 300 errD_x: 0.01 errD_z: 0.03 errG: 0.40\n",
      "Epoch:8 Iter: 400 errD_x: 0.01 errD_z: 0.02 errG: 0.49\n",
      "Epoch:8 Iter: 500 errD_x: 0.01 errD_z: 0.02 errG: 0.45\n",
      "Epoch:8 Iter: 600 errD_x: 0.01 errD_z: 0.01 errG: 0.30\n",
      "Epoch:8 Iter: 700 errD_x: 0.01 errD_z: 0.01 errG: 0.43\n",
      "Epoch:8 Iter: 800 errD_x: 0.00 errD_z: 0.03 errG: 0.21\n",
      "Epoch:8 Iter: 900 errD_x: 0.06 errD_z: 0.01 errG: 0.30\n",
      "Epoch:9 Iter: 100 errD_x: 0.01 errD_z: 0.01 errG: 0.48\n",
      "Epoch:9 Iter: 200 errD_x: 0.04 errD_z: 0.02 errG: 0.54\n",
      "Epoch:9 Iter: 300 errD_x: 0.01 errD_z: 0.01 errG: 0.48\n",
      "Epoch:9 Iter: 400 errD_x: 0.01 errD_z: 0.01 errG: 0.48\n",
      "Epoch:9 Iter: 500 errD_x: 0.02 errD_z: 0.01 errG: 0.53\n",
      "Epoch:9 Iter: 600 errD_x: 0.01 errD_z: 0.01 errG: 0.51\n",
      "Epoch:9 Iter: 700 errD_x: 0.01 errD_z: 0.00 errG: 0.52\n",
      "Epoch:9 Iter: 800 errD_x: 0.01 errD_z: 0.03 errG: 0.33\n",
      "Epoch:9 Iter: 900 errD_x: 0.00 errD_z: 0.01 errG: 0.55\n",
      "Epoch:10 Iter: 100 errD_x: 0.00 errD_z: 0.01 errG: 0.45\n",
      "Epoch:10 Iter: 200 errD_x: 0.01 errD_z: 0.01 errG: 0.43\n",
      "Epoch:10 Iter: 300 errD_x: 0.01 errD_z: 0.00 errG: 0.50\n",
      "Epoch:10 Iter: 400 errD_x: 0.01 errD_z: 0.03 errG: 0.52\n",
      "Epoch:10 Iter: 500 errD_x: 0.01 errD_z: 0.01 errG: 0.54\n",
      "Epoch:10 Iter: 600 errD_x: 0.02 errD_z: 0.01 errG: 0.49\n",
      "Epoch:10 Iter: 700 errD_x: 0.00 errD_z: 0.00 errG: 0.52\n",
      "Epoch:10 Iter: 800 errD_x: 0.01 errD_z: 0.01 errG: 0.56\n",
      "Epoch:10 Iter: 900 errD_x: 0.01 errD_z: 0.02 errG: 0.31\n"
     ]
    }
   ],
   "source": [
    "# Конфигурация\n",
    "num_epochs = 10\n",
    "noise_size = 256\n",
    "print_freq = 100\n",
    "batch_size = 64\n",
    "\n",
    "dataloader = DataLoader(train, batch_size, shuffle=True)\n",
    "for batch, _ in dataloader: # Жертвуем 1 батчом из первой итерации для обучения - ничего страшного\n",
    "    break\n",
    "    \n",
    "# Как мы будем помечать истинные и сгенерированные изображения\n",
    "real_label = 1\n",
    "fake_label = 0\n",
    "\n",
    "generatorLSGAN2 = GeneratorLSGAN(nz=noise_size, ngf=128).to(device)\n",
    "discriminatorLSGAN2 = DiscriminatorLSGAN(ndf=128).to(device)\n",
    "optim_G = optim.Adam(params=generatorLSGAN2.parameters(), lr=0.0001)\n",
    "optim_D = optim.Adam(params=discriminatorLSGAN2.parameters(), lr=0.0001)\n",
    "\n",
    "\n",
    "ERRD_x = np.zeros(num_epochs)\n",
    "ERRD_z = np.zeros(num_epochs)\n",
    "ERRG = np.zeros(num_epochs)\n",
    "N = len(dataloader)\n",
    "\n",
    "for epoch in range(num_epochs):\n",
    "    for iteration, (images, cat) in enumerate(dataloader):\n",
    "        discriminatorLSGAN2.zero_grad()\n",
    "        label = torch.FloatTensor(batch_size).to(device) # место для меток\n",
    "        \n",
    "        # real\n",
    "        label.data.fill_(real_label)\n",
    "        input_data = images.to(device)\n",
    "        output = discriminatorLSGAN2(input_data)\n",
    "        errD_real = 0.5 * torch.mean((output-label)**2) # criterion(output, label)\n",
    "        errD_real.backward()\n",
    "        ERRD_x[epoch] += errD_real.item()\n",
    "        \n",
    "        # fake \n",
    "        latent_noise = torch.randn(batch_size, noise_size, 1, 1, device=device)\n",
    "        fake = generatorLSGAN2(latent_noise)\n",
    "        label.data.fill_(fake_label)\n",
    "        output = discriminatorLSGAN2(fake.detach())\n",
    "        errD_fake = 0.5 * torch.mean((output-label)**2) \n",
    "        errD_fake.backward()\n",
    "        ERRD_z[epoch] += errD_fake.item()\n",
    "        \n",
    "        optim_D.step()\n",
    "        generatorLSGAN2.zero_grad()\n",
    "        label.data.fill_(real_label)\n",
    "        output = discriminatorLSGAN2(fake)\n",
    "        errG = 0.5 * torch.mean((output - label)**2)\n",
    "        errG.backward()\n",
    "        ERRG[epoch] += errG.item()\n",
    "        \n",
    "        optim_G.step()\n",
    "        \n",
    "        if (iteration+1) % print_freq == 0:\n",
    "            print('Epoch:{} Iter: {} errD_x: {:.2f} errD_z: {:.2f} errG: {:.2f}'.format(epoch+1,\n",
    "                                                                                            iteration+1, \n",
    "                                                                                            errD_real.item(),\n",
    "                                                                                            errD_fake.item(), \n",
    "                                                                                            errG.item()))"
   ]
  },
  {
   "cell_type": "code",
   "execution_count": 31,
   "metadata": {},
   "outputs": [
    {
     "name": "stdout",
     "output_type": "stream",
     "text": [
      "torch.Size([64, 1, 28, 28])\n"
     ]
    },
    {
     "data": {
      "image/png": "[encoded data removed]",
      "text/plain": [
       "<Figure size 432x504 with 16 Axes>"
      ]
     },
     "metadata": {
      "needs_background": "light"
     },
     "output_type": "display_data"
    }
   ],
   "source": [
    "# Смотрим на результат\n",
    "noise = torch.randn(batch_size, noise_size, 1, 1, device=device)\n",
    "fake = generatorLSGAN2(noise.detach())\n",
    "print(fake.shape)\n",
    "\n",
    "show_pictures(fake)"
   ]
  },
  {
   "cell_type": "markdown",
   "metadata": {},
   "source": [
    "3) Добавьте к обучению GAN условие на метку, продемонстрируйте условную генерацию. https://arxiv.org/pdf/1411.1784.pdf"
   ]
  },
  {
   "cell_type": "code",
   "execution_count": 91,
   "metadata": {},
   "outputs": [],
   "source": [
    "class GeneratorCGAN(nn.Module):\n",
    "    def __init__(self):\n",
    "        super(GeneratorCGAN, self).__init__()\n",
    "        self.label_embedding = nn.Embedding(10, 10)\n",
    "        self.model = nn.Sequential( \n",
    "            nn.Linear(noise_size+10, 128),\n",
    "            nn.LeakyReLU(0.2),\n",
    "            nn.Linear(128, 256),\n",
    "            nn.BatchNorm1d(256),\n",
    "            nn.LeakyReLU(0.2),\n",
    "            nn.Linear(256, 512),\n",
    "            nn.BatchNorm1d(512),\n",
    "            nn.LeakyReLU(0.2),\n",
    "            nn.Linear(512, 1024),\n",
    "            nn.BatchNorm1d(1024),\n",
    "            nn.LeakyReLU(0.2),\n",
    "            nn.Linear(1024, 28*28),\n",
    "            nn.Tanh()).to(device)\n",
    "        \n",
    "    def forward(self, x, labels):\n",
    "        x = torch.cat((self.label_embedding(labels), x.view(x.size(0), -1)), -1)\n",
    "        return self.model(x)\n",
    "    \n",
    "class DiscriminatorCGAN(nn.Module):\n",
    "    def __init__(self):\n",
    "        super(DiscriminatorCGAN, self).__init__()\n",
    "        \n",
    "        self.label_embedding = nn.Embedding(10, 10)\n",
    "        \n",
    "        self.model = nn.Sequential(\n",
    "            nn.Linear(28*28+10, 512),\n",
    "            nn.LeakyReLU(0.2),\n",
    "            nn.Linear(512, 512),\n",
    "            nn.Dropout(),\n",
    "            nn.LeakyReLU(0.2),\n",
    "            nn.Linear(512, 512), \n",
    "            nn.Dropout(),\n",
    "            nn.LeakyReLU(0.2),\n",
    "            nn.Linear(512, 1)).to(device)\n",
    "    def forward(self, x, labels):\n",
    "        x = torch.cat((self.label_embedding(labels), x.view(x.size(0), -1)), -1)\n",
    "        return self.model(x)"
   ]
  },
  {
   "cell_type": "code",
   "execution_count": 92,
   "metadata": {},
   "outputs": [],
   "source": [
    "# Конфигурация\n",
    "num_epochs = 3\n",
    "noise_size = 50\n",
    "print_freq = 100\n",
    "batch_size = 16\n",
    "\n",
    "# Как мы будем помечать истинные и сгенерированные изображения\n",
    "real_label = 1\n",
    "fake_label = 0\n",
    "\n",
    "# Шум, из которого генератор будет делать картинки\n",
    "# Заготовка - новые можно сделать с помощью .normal_()\n",
    "noise = torch.FloatTensor(batch_size, noise_size)\n",
    "\n",
    "dataloader = DataLoader(train, batch_size, shuffle=True)\n",
    "for batch, _ in dataloader: # Жертвуем 1 батчом из первой итерации для обучения - ничего страшного\n",
    "    break\n",
    "    "
   ]
  },
  {
   "cell_type": "code",
   "execution_count": 93,
   "metadata": {},
   "outputs": [],
   "source": [
    "generatorCGAN = GeneratorCGAN().to(device)\n",
    "discriminatorCGAN = DiscriminatorCGAN().to(device)\n",
    "optim_G = optim.Adam(params=generatorCGAN.parameters(), lr=0.0001)\n",
    "optim_D = optim.Adam(params=discriminatorCGAN.parameters(), lr=0.0001)\n",
    "\n",
    "criterion = nn.MSELoss().to(device)"
   ]
  },
  {
   "cell_type": "code",
   "execution_count": 100,
   "metadata": {},
   "outputs": [
    {
     "name": "stdout",
     "output_type": "stream",
     "text": [
      "Epoch:1 Iter: 100 errD_x: 0.25 errD_z: 0.05 errG: 0.75\n",
      "Epoch:1 Iter: 200 errD_x: 0.08 errD_z: 0.07 errG: 0.96\n",
      "Epoch:1 Iter: 300 errD_x: 0.10 errD_z: 0.04 errG: 0.95\n",
      "Epoch:1 Iter: 400 errD_x: 0.10 errD_z: 0.06 errG: 0.72\n",
      "Epoch:1 Iter: 500 errD_x: 0.06 errD_z: 0.02 errG: 0.96\n",
      "Epoch:1 Iter: 600 errD_x: 0.07 errD_z: 0.02 errG: 0.92\n",
      "Epoch:1 Iter: 700 errD_x: 0.07 errD_z: 0.06 errG: 0.77\n",
      "Epoch:1 Iter: 800 errD_x: 0.09 errD_z: 0.05 errG: 0.73\n",
      "Epoch:1 Iter: 900 errD_x: 0.05 errD_z: 0.02 errG: 0.82\n",
      "Epoch:1 Iter: 1000 errD_x: 0.07 errD_z: 0.08 errG: 0.73\n",
      "Epoch:1 Iter: 1100 errD_x: 0.04 errD_z: 0.04 errG: 0.96\n",
      "Epoch:1 Iter: 1200 errD_x: 0.04 errD_z: 0.04 errG: 0.95\n",
      "Epoch:1 Iter: 1300 errD_x: 0.05 errD_z: 0.08 errG: 0.63\n",
      "Epoch:1 Iter: 1400 errD_x: 0.08 errD_z: 0.07 errG: 0.98\n",
      "Epoch:1 Iter: 1500 errD_x: 0.08 errD_z: 0.02 errG: 1.06\n",
      "Epoch:1 Iter: 1600 errD_x: 0.13 errD_z: 0.05 errG: 0.87\n",
      "Epoch:1 Iter: 1700 errD_x: 0.05 errD_z: 0.11 errG: 0.51\n",
      "Epoch:1 Iter: 1800 errD_x: 0.04 errD_z: 0.10 errG: 0.54\n",
      "Epoch:1 Iter: 1900 errD_x: 0.07 errD_z: 0.08 errG: 0.72\n",
      "Epoch:1 Iter: 2000 errD_x: 0.09 errD_z: 0.14 errG: 0.63\n",
      "Epoch:1 Iter: 2100 errD_x: 0.08 errD_z: 0.07 errG: 0.66\n",
      "Epoch:1 Iter: 2200 errD_x: 0.04 errD_z: 0.05 errG: 0.72\n",
      "Epoch:1 Iter: 2300 errD_x: 0.13 errD_z: 0.02 errG: 0.78\n",
      "Epoch:1 Iter: 2400 errD_x: 0.17 errD_z: 0.02 errG: 1.03\n",
      "Epoch:1 Iter: 2500 errD_x: 0.07 errD_z: 0.05 errG: 0.81\n",
      "Epoch:1 Iter: 2600 errD_x: 0.08 errD_z: 0.04 errG: 1.04\n",
      "Epoch:1 Iter: 2700 errD_x: 0.10 errD_z: 0.08 errG: 0.74\n",
      "Epoch:1 Iter: 2800 errD_x: 0.08 errD_z: 0.16 errG: 0.55\n",
      "Epoch:1 Iter: 2900 errD_x: 0.11 errD_z: 0.07 errG: 1.09\n",
      "Epoch:1 Iter: 3000 errD_x: 0.16 errD_z: 0.08 errG: 0.80\n",
      "Epoch:1 Iter: 3100 errD_x: 0.14 errD_z: 0.06 errG: 0.88\n",
      "Epoch:1 Iter: 3200 errD_x: 0.10 errD_z: 0.09 errG: 0.53\n",
      "Epoch:1 Iter: 3300 errD_x: 0.01 errD_z: 0.04 errG: 0.72\n",
      "Epoch:1 Iter: 3400 errD_x: 0.07 errD_z: 0.07 errG: 0.64\n",
      "Epoch:1 Iter: 3500 errD_x: 0.14 errD_z: 0.13 errG: 0.57\n",
      "Epoch:1 Iter: 3600 errD_x: 0.13 errD_z: 0.16 errG: 0.70\n",
      "Epoch:1 Iter: 3700 errD_x: 0.10 errD_z: 0.08 errG: 0.62\n",
      "Epoch:2 Iter: 100 errD_x: 0.10 errD_z: 0.05 errG: 0.71\n",
      "Epoch:2 Iter: 200 errD_x: 0.07 errD_z: 0.22 errG: 0.40\n",
      "Epoch:2 Iter: 300 errD_x: 0.15 errD_z: 0.06 errG: 1.07\n",
      "Epoch:2 Iter: 400 errD_x: 0.17 errD_z: 0.02 errG: 0.96\n",
      "Epoch:2 Iter: 500 errD_x: 0.15 errD_z: 0.09 errG: 0.62\n",
      "Epoch:2 Iter: 600 errD_x: 0.12 errD_z: 0.12 errG: 0.52\n",
      "Epoch:2 Iter: 700 errD_x: 0.28 errD_z: 0.06 errG: 0.62\n",
      "Epoch:2 Iter: 800 errD_x: 0.08 errD_z: 0.21 errG: 0.37\n",
      "Epoch:2 Iter: 900 errD_x: 0.11 errD_z: 0.06 errG: 0.75\n",
      "Epoch:2 Iter: 1000 errD_x: 0.08 errD_z: 0.15 errG: 0.52\n",
      "Epoch:2 Iter: 1100 errD_x: 0.10 errD_z: 0.03 errG: 0.77\n",
      "Epoch:2 Iter: 1200 errD_x: 0.10 errD_z: 0.09 errG: 0.67\n",
      "Epoch:2 Iter: 1300 errD_x: 0.10 errD_z: 0.18 errG: 0.51\n",
      "Epoch:2 Iter: 1400 errD_x: 0.05 errD_z: 0.27 errG: 0.30\n",
      "Epoch:2 Iter: 1500 errD_x: 0.09 errD_z: 0.19 errG: 0.45\n",
      "Epoch:2 Iter: 1600 errD_x: 0.20 errD_z: 0.05 errG: 0.86\n",
      "Epoch:2 Iter: 1700 errD_x: 0.08 errD_z: 0.19 errG: 0.41\n",
      "Epoch:2 Iter: 1800 errD_x: 0.08 errD_z: 0.13 errG: 0.63\n",
      "Epoch:2 Iter: 1900 errD_x: 0.21 errD_z: 0.11 errG: 0.61\n",
      "Epoch:2 Iter: 2000 errD_x: 0.18 errD_z: 0.15 errG: 0.45\n",
      "Epoch:2 Iter: 2100 errD_x: 0.25 errD_z: 0.07 errG: 0.65\n",
      "Epoch:2 Iter: 2200 errD_x: 0.15 errD_z: 0.14 errG: 0.45\n",
      "Epoch:2 Iter: 2300 errD_x: 0.13 errD_z: 0.20 errG: 0.42\n",
      "Epoch:2 Iter: 2400 errD_x: 0.17 errD_z: 0.05 errG: 0.72\n",
      "Epoch:2 Iter: 2500 errD_x: 0.12 errD_z: 0.08 errG: 0.57\n",
      "Epoch:2 Iter: 2600 errD_x: 0.09 errD_z: 0.11 errG: 0.61\n",
      "Epoch:2 Iter: 2700 errD_x: 0.17 errD_z: 0.08 errG: 0.65\n",
      "Epoch:2 Iter: 2800 errD_x: 0.13 errD_z: 0.17 errG: 0.57\n",
      "Epoch:2 Iter: 2900 errD_x: 0.10 errD_z: 0.08 errG: 0.57\n",
      "Epoch:2 Iter: 3000 errD_x: 0.04 errD_z: 0.02 errG: 0.90\n",
      "Epoch:2 Iter: 3100 errD_x: 0.12 errD_z: 0.02 errG: 0.84\n",
      "Epoch:2 Iter: 3200 errD_x: 0.06 errD_z: 0.10 errG: 0.62\n",
      "Epoch:2 Iter: 3300 errD_x: 0.14 errD_z: 0.13 errG: 0.51\n",
      "Epoch:2 Iter: 3400 errD_x: 0.11 errD_z: 0.13 errG: 0.44\n",
      "Epoch:2 Iter: 3500 errD_x: 0.17 errD_z: 0.07 errG: 0.70\n",
      "Epoch:2 Iter: 3600 errD_x: 0.24 errD_z: 0.18 errG: 0.44\n",
      "Epoch:2 Iter: 3700 errD_x: 0.19 errD_z: 0.15 errG: 0.56\n",
      "Epoch:3 Iter: 100 errD_x: 0.18 errD_z: 0.03 errG: 0.79\n",
      "Epoch:3 Iter: 200 errD_x: 0.14 errD_z: 0.19 errG: 0.52\n",
      "Epoch:3 Iter: 300 errD_x: 0.04 errD_z: 0.21 errG: 0.50\n",
      "Epoch:3 Iter: 400 errD_x: 0.11 errD_z: 0.14 errG: 0.59\n",
      "Epoch:3 Iter: 500 errD_x: 0.15 errD_z: 0.19 errG: 0.57\n",
      "Epoch:3 Iter: 600 errD_x: 0.13 errD_z: 0.14 errG: 0.49\n",
      "Epoch:3 Iter: 700 errD_x: 0.27 errD_z: 0.10 errG: 0.65\n",
      "Epoch:3 Iter: 800 errD_x: 0.13 errD_z: 0.13 errG: 0.51\n",
      "Epoch:3 Iter: 900 errD_x: 0.14 errD_z: 0.05 errG: 0.77\n",
      "Epoch:3 Iter: 1000 errD_x: 0.15 errD_z: 0.15 errG: 0.55\n",
      "Epoch:3 Iter: 1100 errD_x: 0.16 errD_z: 0.13 errG: 0.75\n",
      "Epoch:3 Iter: 1200 errD_x: 0.09 errD_z: 0.06 errG: 0.71\n",
      "Epoch:3 Iter: 1300 errD_x: 0.16 errD_z: 0.10 errG: 0.56\n",
      "Epoch:3 Iter: 1400 errD_x: 0.14 errD_z: 0.10 errG: 0.61\n",
      "Epoch:3 Iter: 1500 errD_x: 0.18 errD_z: 0.07 errG: 0.66\n",
      "Epoch:3 Iter: 1600 errD_x: 0.21 errD_z: 0.03 errG: 0.91\n",
      "Epoch:3 Iter: 1700 errD_x: 0.17 errD_z: 0.11 errG: 0.63\n",
      "Epoch:3 Iter: 1800 errD_x: 0.20 errD_z: 0.06 errG: 0.67\n",
      "Epoch:3 Iter: 1900 errD_x: 0.18 errD_z: 0.15 errG: 0.47\n",
      "Epoch:3 Iter: 2000 errD_x: 0.12 errD_z: 0.12 errG: 0.48\n",
      "Epoch:3 Iter: 2100 errD_x: 0.26 errD_z: 0.11 errG: 0.54\n",
      "Epoch:3 Iter: 2200 errD_x: 0.15 errD_z: 0.09 errG: 0.76\n",
      "Epoch:3 Iter: 2300 errD_x: 0.24 errD_z: 0.03 errG: 0.70\n",
      "Epoch:3 Iter: 2400 errD_x: 0.11 errD_z: 0.10 errG: 0.60\n",
      "Epoch:3 Iter: 2500 errD_x: 0.15 errD_z: 0.17 errG: 0.48\n",
      "Epoch:3 Iter: 2600 errD_x: 0.08 errD_z: 0.05 errG: 0.71\n",
      "Epoch:3 Iter: 2700 errD_x: 0.19 errD_z: 0.16 errG: 0.49\n",
      "Epoch:3 Iter: 2800 errD_x: 0.24 errD_z: 0.10 errG: 0.56\n",
      "Epoch:3 Iter: 2900 errD_x: 0.12 errD_z: 0.05 errG: 0.72\n",
      "Epoch:3 Iter: 3000 errD_x: 0.23 errD_z: 0.06 errG: 0.70\n",
      "Epoch:3 Iter: 3100 errD_x: 0.07 errD_z: 0.27 errG: 0.33\n",
      "Epoch:3 Iter: 3200 errD_x: 0.10 errD_z: 0.15 errG: 0.50\n",
      "Epoch:3 Iter: 3300 errD_x: 0.12 errD_z: 0.07 errG: 0.66\n",
      "Epoch:3 Iter: 3400 errD_x: 0.19 errD_z: 0.08 errG: 0.69\n",
      "Epoch:3 Iter: 3500 errD_x: 0.09 errD_z: 0.17 errG: 0.53\n",
      "Epoch:3 Iter: 3600 errD_x: 0.09 errD_z: 0.18 errG: 0.50\n",
      "Epoch:3 Iter: 3700 errD_x: 0.23 errD_z: 0.02 errG: 0.86\n"
     ]
    }
   ],
   "source": [
    "ERRD_x = np.zeros(num_epochs)\n",
    "ERRD_z = np.zeros(num_epochs)\n",
    "ERRG = np.zeros(num_epochs)\n",
    "N = len(dataloader)\n",
    "\n",
    "for epoch in range(num_epochs):\n",
    "    for iteration, (images, cat) in enumerate(dataloader):\n",
    "        cat = cat.to(device)\n",
    "        valid = torch.FloatTensor(batch_size, 1).fill_(1.0).to(device)\n",
    "        fake = torch.FloatTensor(batch_size, 1).fill_(0.0).to(device)\n",
    "        \n",
    "        \n",
    "        generatorCGAN.zero_grad()\n",
    "        noise.data.normal_(0, 1)\n",
    "        noise = noise.to(device)\n",
    "        gen_labels = torch.LongTensor(np.random.randint(0, 10, batch_size)).to(device)\n",
    "        gen_imgs = generatorCGAN(noise.detach(), gen_labels)\n",
    "        output = discriminatorCGAN(gen_imgs, gen_labels)\n",
    "        errG = criterion(output, valid)\n",
    "        ERRG[epoch] += errG.item()\n",
    "        errG.backward()\n",
    "        \n",
    "        optim_G.step()\n",
    "        \n",
    "        discriminatorCGAN.zero_grad()\n",
    "        input_data = images.view(images.shape[0], -1).to(device)\n",
    "        validity_real = discriminatorCGAN(input_data, cat)\n",
    "        real_loss = criterion(validity_real, valid)\n",
    "        errD_x = criterion(validity_real, valid)\n",
    "        ERRD_x[epoch] += errD_x.item()\n",
    "        errD_x.backward()\n",
    "        \n",
    "        validity_fake = discriminatorCGAN(gen_imgs.detach(), gen_labels)\n",
    "        errD_z = criterion(validity_fake, fake)\n",
    "        ERRD_z[epoch] += errD_z.item()\n",
    "        errD_z.backward()\n",
    "        optim_D.step()\n",
    "        \n",
    "        if (iteration+1) % print_freq == 0:\n",
    "            print('Epoch:{} Iter: {} errD_x: {:.2f} errD_z: {:.2f} errG: {:.2f}'.format(epoch+1,\n",
    "                                                                                            iteration+1, \n",
    "                                                                                            errD_x.item(),\n",
    "                                                                                            errD_z.item(), \n",
    "                                                                                            errG.item()))"
   ]
  },
  {
   "cell_type": "code",
   "execution_count": 102,
   "metadata": {},
   "outputs": [
    {
     "name": "stdout",
     "output_type": "stream",
     "text": [
      "torch.Size([16, 784])\n"
     ]
    },
    {
     "data": {
      "image/png": "[encoded data removed]",
      "text/plain": [
       "<Figure size 432x504 with 16 Axes>"
      ]
     },
     "metadata": {
      "needs_background": "light"
     },
     "output_type": "display_data"
    }
   ],
   "source": [
    "# Смотрим на результат\n",
    "noise.data.normal_(0, 1)\n",
    "noise = noise.to(device)\n",
    "gen_labels = torch.LongTensor(np.random.randint(0, 10, batch_size)).to(device)\n",
    "fake = generatorCGAN(noise.detach(), gen_labels)\n",
    "print(fake.shape)\n",
    "\n",
    "show_pictures(fake)"
   ]
  },
  {
   "cell_type": "markdown",
   "metadata": {},
   "source": [
    "4) Напишите отчет что попробовали, какие результаты получили, как вам кажется надо обучать GAN, чтобы добиться сходимости?\n",
    "\n",
    "Попробовали классический GAN, CGAN, и LSGAN. LSGAN показал себя лучше всего. Было замечено, что резульатат очень зависит от выбора лосс функции для обучения.\n"
   ]
  },
  {
   "cell_type": "markdown",
   "metadata": {},
   "source": [
    "Спасибо за выполнение заданий!"
   ]
  }
 ],
 "metadata": {
  "anaconda-cloud": {},
  "kernelspec": {
   "display_name": "Python 3",
   "language": "python",
   "name": "python3"
  },
  "language_info": {
   "codemirror_mode": {
    "name": "ipython",
    "version": 3
   },
   "file_extension": ".py",
   "mimetype": "text/x-python",
   "name": "python",
   "nbconvert_exporter": "python",
   "pygments_lexer": "ipython3",
   "version": "3.7.2"
  }
 },
 "nbformat": 4,
 "nbformat_minor": 4
}
